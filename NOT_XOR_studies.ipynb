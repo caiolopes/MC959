{
 "cells": [
  {
   "cell_type": "markdown",
   "metadata": {},
   "source": [
    "# First example\n",
    "\n",
    "## Learn : Linear Model for NOT\n",
    "\n",
    "$f^{*}(0) = 1$<br>$f^{*}(1) = 0$\n",
    "\n",
    "No activation function this time.\n",
    "\n",
    "### Diagram:\n",
    "\n",
    "![NOT Diagram](images/not_diagram.png)\n",
    "\n",
    "### Function:\n",
    "\n",
    "$$f(x, w, b) = w \\cdot x + b$$\n",
    "\n",
    "### Error function:\n",
    "$$MSE=\\frac{1}{n}\\sum_{x=0}^{1}{(f(x, w, b) - f^*(x))^2}$$\n",
    "$n$ is equal to the number of entries, in our case: 2\n",
    "\n",
    "**Objective:** we want to minimize this error function\n",
    "\n",
    "**How:** With calculus, finding the derivative for minimizing the error\n",
    "\n",
    "### Mean Squared Error (MSE):\n",
    "\n",
    "$$ MSE = \\frac{1}{2} \\cdot (\\,f(0, w, b) - f^*(0)\\,)^2 + \\frac{1}{2} \\cdot (\\,f(1, w, b) - f^*(1)\\,)^2  $$\n",
    "$$ MSE = \\frac{1}{2} \\cdot (\\,b-1\\,)^2 + \\frac{1}{2} \\cdot (\\,w+b - 0\\,)^2  $$\n",
    "$$ MSE = b^2 - b + \\frac{1}{2} + \\frac{w^2}{2} + w \\cdot b $$\n",
    "\n",
    "### Partial derivatives\n",
    "\n",
    "Now, calculating the partial derivatives to find the gradient descedent:<br><br>\n",
    "<div style=\"float:left;width:250px;\">\n",
    "![Gradient](images/gradient.png)\n",
    "</div>\n",
    "<div style=\"float:left;width:250px;\"><br>\n",
    " $$\\frac{\\partial MSE}{\\partial w} = w + b$$<br>\n",
    " $$\\frac{\\partial MSE}{\\partial b} = 2 \\cdot b - 1 + w$$\n",
    "</div>\n",
    "<div style=\"clear:both;\"></div>\n",
    "\n",
    "### Iteration:\n",
    "$$w \\leftarrow w- \\eta \\cdot \\frac{\\partial MSE}{\\partial w}$$<br>\n",
    "$$b \\leftarrow b- \\eta \\cdot \\frac{\\partial MSE}{\\partial b}$$"
   ]
  },
  {
   "cell_type": "code",
   "execution_count": 1,
   "metadata": {},
   "outputs": [],
   "source": [
    "import random\n",
    "import itertools\n",
    "\n",
    "# generic mse\n",
    "def mse(f, f_star, w, b, n):\n",
    "    return sum([(f(x, w, b) - f_star(x)) ** 2 for x in itertools.product([0, 1], repeat=n)])"
   ]
  },
  {
   "cell_type": "code",
   "execution_count": 2,
   "metadata": {},
   "outputs": [],
   "source": [
    "def not_func(x):\n",
    "    if x[0] == 0:\n",
    "        return 1\n",
    "    if x[0] == 1:\n",
    "        return 0\n",
    "    \n",
    "    raise ValueError('Incorrect input, it should be 0 or 1')\n",
    "    \n",
    "\n",
    "def not_model(x, w, b):\n",
    "    return w * x[0] + b\n",
    "\n",
    "\n",
    "def grad_w(w, b, eta):\n",
    "    return w - eta * (w + b)\n",
    "\n",
    "\n",
    "def grad_b(w, b, eta):\n",
    "    return b - eta * (2 * \n",
    "                      b - 1 + w)\n",
    "\n",
    "def train_not(model, objective, n, num_interactions=500, eta=0.1):\n",
    "    w = random.uniform(-1, 1)\n",
    "    b = random.uniform(-1, 1)\n",
    "    \n",
    "    j = 0\n",
    "    for i in range(num_interactions):\n",
    "        mse_value = mse(model, objective, w, b, n)\n",
    "        w = grad_w(w, b, eta)\n",
    "        b = grad_b(w, b, eta)\n",
    "\n",
    "        if j == 0:\n",
    "            print(mse_value)\n",
    "        elif j == 10:\n",
    "            j = -1\n",
    "            \n",
    "        j += 1\n",
    "    \n",
    "    def trained_model(x):\n",
    "        return model(x, w, b)\n",
    "    \n",
    "    return trained_model"
   ]
  },
  {
   "cell_type": "code",
   "execution_count": 3,
   "metadata": {},
   "outputs": [
    {
     "name": "stdout",
     "output_type": "stream",
     "text": [
      "3.1273125908836406\n",
      "0.09097695296660298\n",
      "0.03567994424746805\n",
      "0.014551440351822587\n",
      "0.0059280827849091285\n",
      "0.0024148165342546637\n",
      "0.0009836745834271108\n",
      "0.0004006993048506026\n",
      "0.00016322463896691278\n",
      "6.648946578546263e-05\n",
      "2.7084446857500127e-05\n",
      "1.1032834343084863e-05\n",
      "4.494218925064842e-06\n",
      "1.8307175761297194e-06\n",
      "7.457417850426648e-07\n",
      "3.037775008061611e-07\n",
      "1.2374359576856902e-07\n",
      "5.040688481898796e-08\n",
      "2.0533216457561165e-08\n",
      "8.364194288274525e-09\n",
      "3.407149885006487e-09\n",
      "1.387900608083934e-09\n",
      "5.653605397308239e-10\n",
      "2.3029930099176767e-10\n",
      "9.381229199556604e-11\n",
      "3.821438489630135e-11\n",
      "1.556660840372668e-11\n",
      "6.341049263512728e-12\n",
      "2.583022885592576e-12\n",
      "1.052192934008835e-12\n",
      "4.2861020560916524e-13\n",
      "1.7459412849918662e-13\n",
      "7.112082098637322e-14\n",
      "2.8971026821594625e-14\n",
      "1.1801331653804728e-14\n",
      "4.807265885281481e-15\n",
      "1.9582370865126027e-15\n",
      "7.976867920247288e-16\n",
      "3.249372720017398e-16\n",
      "1.3236301388442732e-16\n",
      "5.3918000378717415e-17\n",
      "2.1963467976054934e-17\n",
      "8.946807103117877e-18\n",
      "3.644476357878606e-18\n",
      "1.484575451602423e-18\n",
      "6.047410942713969e-19\n"
     ]
    }
   ],
   "source": [
    "trained_model = train_not(not_model, not_func, n=2)"
   ]
  },
  {
   "cell_type": "code",
   "execution_count": 4,
   "metadata": {},
   "outputs": [
    {
     "name": "stdout",
     "output_type": "stream",
     "text": [
      "input: (0,), output: 0.9999999996269427\n",
      "input: (1,), output: 2.4870483450456504e-10\n"
     ]
    }
   ],
   "source": [
    "for x in itertools.product([0, 1], repeat=1):\n",
    "    print('input: {}, output: {}'.format(x, trained_model(x)))"
   ]
  },
  {
   "cell_type": "markdown",
   "metadata": {},
   "source": [
    "# Second example: Linear Model for XOR\n",
    "## Learn XOR\n",
    "\n",
    " x1 | x2 | XOR \n",
    "----|----|----\n",
    " 0  | 0  | 0\n",
    " 0  | 1  | 1\n",
    " 1  | 0  | 1\n",
    " 1  | 1  | 0\n",
    "\n",
    "*No activation function.*\n",
    "\n",
    "### Diagram:\n",
    "![XOR Diagram](images/xor_diagram.png)\n",
    "\n",
    "### Function:\n",
    "\n",
    "$$ f(x, w, b) = w_1 \\cdot x_1 + w_2 \\cdot x_2 + b$$\n",
    "\n",
    "### MSE:\n",
    "\n",
    "$$ MSE = \\frac{1}{4} \\cdot (b^2 + (w_2+1-1)^2+(w_1+b-1)+(w_1+b-1)^2+(w_1+w_2+b)^2)$$\n",
    "\n",
    "### Partial derivatives:\n",
    "\n",
    "$$\\frac{\\partial MSE}{\\partial w_1} = w_1 + b - \\frac{1}{2} + \\frac{w_2}{2}$$<br>\n",
    "$$\\frac{\\partial MSE}{\\partial w_2} = w_2 + b - \\frac{1}{2} + \\frac{w_1}{2}$$<br>\n",
    "$$\\frac{\\partial MSE}{\\partial b} = 2b + w_1 + w_2 - 1$$<br>"
   ]
  },
  {
   "cell_type": "code",
   "execution_count": 5,
   "metadata": {},
   "outputs": [],
   "source": [
    "def xor_func(x):\n",
    "    return int(x[0] != x[1])\n",
    "\n",
    "\n",
    "def xor_model(x, w, b):\n",
    "    return x[0] * w[0] + x[1] * w[1] + b\n",
    "    \n",
    "\n",
    "def grad_w_1(w, b, eta):\n",
    "    return w[0] - eta * (w[0] + b - 0.5 + 0.5 * w[1])\n",
    "\n",
    "\n",
    "def grad_w_2(w, b, eta):\n",
    "    return w[1] - eta * (w[1] + b - 0.5 + 0.5 * w[0])\n",
    "\n",
    "\n",
    "def grad_b(w, b, eta):\n",
    "    return b - eta * (2 * b + w[0] + w[1] - 1)\n",
    "\n",
    "\n",
    "def train_xor(model, objective, n, num_interactions=500, eta=0.1):\n",
    "    w = [random.uniform(-1, 1) for _ in range(2)]\n",
    "    b = random.uniform(-1, 1)\n",
    "    \n",
    "    j = 0\n",
    "    for i in range(num_interactions):\n",
    "        mse_value = mse(model, objective, w, b, n)\n",
    "        w[0] = grad_w_1(w, b, eta)\n",
    "        w[1] = grad_w_2(w, b, eta)\n",
    "        b = grad_b(w, b, eta)\n",
    "        \n",
    "        if j == 0:\n",
    "            print(mse_value)\n",
    "        elif j == 10:\n",
    "            j = -1\n",
    "            \n",
    "        j += 1\n",
    "    \n",
    "    def trained_model(x):\n",
    "        return model(x, w, b)\n",
    "    \n",
    "    return trained_model"
   ]
  },
  {
   "cell_type": "code",
   "execution_count": 6,
   "metadata": {},
   "outputs": [
    {
     "name": "stdout",
     "output_type": "stream",
     "text": [
      "74.21251615645126\n",
      "4.416213022532111\n",
      "4.138188488536622\n",
      "4.050881249927394\n",
      "4.019597506970198\n",
      "4.00790416439515\n",
      "4.003325607279144\n",
      "4.001449798328364\n",
      "4.000649764838388\n",
      "4.000297169776201\n",
      "4.000137846871886\n",
      "4.000064553535356\n",
      "4.00003041838905\n",
      "4.000014389975611\n",
      "4.00000682395414\n",
      "4.000003240696449\n",
      "4.000001540265461\n",
      "4.000000732383601\n",
      "4.000000348308851\n",
      "4.000000165658091\n",
      "4.000000078786001\n",
      "4.00000003746763\n",
      "4.0000000178166735\n",
      "4.000000008471465\n",
      "4.000000004027666\n",
      "4.000000001914761\n",
      "4.0000000009102195\n",
      "4.000000000432664\n",
      "4.000000000205652\n",
      "4.000000000097744\n",
      "4.000000000046457\n",
      "4.000000000022078\n",
      "4.000000000010494\n",
      "4.000000000004986\n",
      "4.00000000000237\n",
      "4.000000000001125\n",
      "4.000000000000535\n",
      "4.000000000000253\n",
      "4.000000000000121\n",
      "4.000000000000057\n",
      "4.0000000000000275\n",
      "4.000000000000013\n",
      "4.000000000000007\n",
      "4.0000000000000036\n",
      "4.000000000000002\n",
      "4.000000000000001\n"
     ]
    }
   ],
   "source": [
    "trained_model = train_xor(xor_model, xor_func, n=4)"
   ]
  },
  {
   "cell_type": "code",
   "execution_count": 7,
   "metadata": {},
   "outputs": [
    {
     "name": "stdout",
     "output_type": "stream",
     "text": [
      "input: (0, 0), output: 0.4999999913242938\n",
      "input: (0, 1), output: 0.4999999991588299\n",
      "input: (1, 0), output: 0.4999999984537919\n",
      "input: (1, 1), output: 0.5000000062883281\n"
     ]
    }
   ],
   "source": [
    "for x in itertools.product([0, 1], repeat=2):\n",
    "    print('input: {}, output: {}'.format(x, trained_model(x)))"
   ]
  },
  {
   "cell_type": "markdown",
   "metadata": {},
   "source": [
    "# Improved model for XOR\n",
    "\n",
    "\n",
    "![XOR Improved](images/xor_improved_diagram.png)"
   ]
  },
  {
   "cell_type": "markdown",
   "metadata": {},
   "source": [
    "### Activation function: ReLU\n",
    "$$\\sigma(x) = max(0, x)$$<br>\n",
    "\n",
    "### Derivative:\n",
    "\\begin{cases}\n",
    "    x,& \\text{if } x\\geq 1\\\\\n",
    "    0,              & \\text{otherwise}\n",
    "\\end{cases}"
   ]
  },
  {
   "cell_type": "markdown",
   "metadata": {},
   "source": [
    "### MSE:\n",
    "\n",
    "$$ MSE = \\frac{1}{4} \\sum_x (f^{(2)}(f^{(1)}(x)) - f^{*}(x))^2$$\n",
    "\n",
    "$$ MSE = \\frac{1}{4} \\sum_x (w_1 \\cdot f^{(1)}(x_1) + w_2 \\cdot f^{(1)}(x_2) + b - f^{*}(x))^2$$\n",
    "\n",
    "$$ MSE = \\frac{1}{4} \\sum_{x_1=0}^{1} \\sum_{x_2=0}^{1} (w_1 \\cdot max(0, w_{1,1}x_1 + w_{1,2}x_2 + b_1) + w_2 \\cdot max(0, w_{2,1}x_1 + w_{2,2}x_2 + b_2) + b - f^{*}(x))^2$$"
   ]
  },
  {
   "cell_type": "code",
   "execution_count": 8,
   "metadata": {},
   "outputs": [],
   "source": [
    "import sympy\n",
    "import random\n",
    "sympy.init_printing(use_latex='mathjax')\n",
    "\n",
    "\n",
    "class Xor(sympy.Function):\n",
    "    @classmethod\n",
    "    def eval(cls, x1, x2):\n",
    "        if x1.is_Number and x2.is_Number:\n",
    "            return int(x1 != x2)\n",
    "\n",
    "class Var:\n",
    "    def __init__(self, symbol, value):\n",
    "        self.s = sympy.Symbol(symbol)\n",
    "        self.v = value\n",
    "    \n",
    "    @staticmethod\n",
    "    def symbols(variables):\n",
    "        return (Var(symbol, random.uniform(-1, 1)) for symbol in variables.split(' '))\n",
    "    \n",
    "    def set_diff(self, expr):\n",
    "        self.diff = sympy.diff(expr, self.s)\n",
    "        \n",
    "    def set_rand(self):\n",
    "        self.v = random.uniform(-1, 1)\n",
    "\n",
    "        \n",
    "def subs(expr, variables):\n",
    "    return expr.subs([\n",
    "        (var.s, var.v) for var in variables\n",
    "    ])\n",
    "\n",
    "\n",
    "def diff(variables, eta):\n",
    "    for var in variables:\n",
    "        var.v -= eta * subs(var.diff, variables)"
   ]
  },
  {
   "cell_type": "code",
   "execution_count": 9,
   "metadata": {},
   "outputs": [
    {
     "data": {
      "text/latex": [
       "$$\\frac{1}{4} \\sum_{\\substack{0 \\leq x_{1} \\leq 1\\\\0 \\leq x_{2} \\leq 1}} \\left(b + w_{1} \\max\\left(0, b_{1} + w_{11} x_{1} + w_{12} x_{2}\\right) + w_{2} \\max\\left(0, b_{2} + w_{21} x_{1} + w_{22} x_{2}\\right) - x_{1} \\veebar x_{2}\\right)^{2}$$"
      ],
      "text/plain": [
       "  1      1                                                                    \n",
       " ___    ___                                                                   \n",
       " ╲      ╲                                                                     \n",
       "  ╲      ╲                                                                    \n",
       "  ╱      ╱    (b + w₁⋅Max(0, b_1 + w_11*x_1 + w_12*x_2) + w₂⋅Max(0, b_2 + w_21\n",
       " ╱      ╱                                                                     \n",
       " ‾‾‾    ‾‾‾                                                                   \n",
       "x₂ = 0 x₁ = 0                                                                 \n",
       "──────────────────────────────────────────────────────────────────────────────\n",
       "                                                    4                         \n",
       "\n",
       "                            \n",
       "                            \n",
       "                            \n",
       "                           2\n",
       "*x_1 + w_22*x_2) - x₁ ⊻ x₂) \n",
       "                            \n",
       "                            \n",
       "                            \n",
       "────────────────────────────\n",
       "                            "
      ]
     },
     "execution_count": 9,
     "metadata": {},
     "output_type": "execute_result"
    }
   ],
   "source": [
    "variables = list(Var.symbols('x_1 x_2 w_1 w_2 w_11 w_12 w_21 w_22 b_1 b_2 b'))\n",
    "x_1, x_2, w_1, w_2, w_11, w_12, w_21, w_22, b_1, b_2, b = variables\n",
    "\n",
    "model = (\n",
    "    w_1.s * sympy.Max(0, w_11.s * x_1.s + w_12.s * x_2.s + b_1.s) + \n",
    "    w_2.s * sympy.Max(0, w_21.s * x_1.s + w_22.s * x_2.s + b_2.s) + b.s\n",
    ")\n",
    "expr = (model - Xor(x_1.s, x_2.s)) ** 2\n",
    "expr = sympy.Rational(1, 4) * sympy.Sum(sympy.Sum(expr, (x_1.s, 0, 1)), (x_2.s, 0, 1))\n",
    "\n",
    "expr"
   ]
  },
  {
   "cell_type": "code",
   "execution_count": 10,
   "metadata": {},
   "outputs": [
    {
     "data": {
      "text/latex": [
       "$$\\frac{1}{4} \\left(b + w_{1} \\max\\left(0, b_{1}\\right) + w_{2} \\max\\left(0, b_{2}\\right)\\right)^{2} + \\frac{1}{4} \\left(b + w_{1} \\max\\left(0, b_{1} + w_{11} + w_{12}\\right) + w_{2} \\max\\left(0, b_{2} + w_{21} + w_{22}\\right)\\right)^{2} + \\frac{1}{4} \\left(b + w_{1} \\max\\left(0, b_{1} + w_{11}\\right) + w_{2} \\max\\left(0, b_{2} + w_{21}\\right) - 1\\right)^{2} + \\frac{1}{4} \\left(b + w_{1} \\max\\left(0, b_{1} + w_{12}\\right) + w_{2} \\max\\left(0, b_{2} + w_{22}\\right) - 1\\right)^{2}$$"
      ],
      "text/plain": [
       "                                     2                                        \n",
       "(b + w₁⋅Max(0, b_1) + w₂⋅Max(0, b_2))    (b + w₁⋅Max(0, b_1 + w_11 + w_12) + w\n",
       "────────────────────────────────────── + ─────────────────────────────────────\n",
       "                  4                                                      4    \n",
       "\n",
       "                            2                                                 \n",
       "₂⋅Max(0, b_2 + w_21 + w_22))    (b + w₁⋅Max(0, b_1 + w_11) + w₂⋅Max(0, b_2 + w\n",
       "───────────────────────────── + ──────────────────────────────────────────────\n",
       "                                                           4                  \n",
       "\n",
       "         2                                                          2\n",
       "_21) - 1)    (b + w₁⋅Max(0, b_1 + w_12) + w₂⋅Max(0, b_2 + w_22) - 1) \n",
       "────────── + ────────────────────────────────────────────────────────\n",
       "                                        4                            "
      ]
     },
     "execution_count": 10,
     "metadata": {},
     "output_type": "execute_result"
    }
   ],
   "source": [
    "# do the sum and simplify\n",
    "expr = expr.doit().simplify()\n",
    "expr"
   ]
  },
  {
   "cell_type": "code",
   "execution_count": 11,
   "metadata": {},
   "outputs": [],
   "source": [
    "# set variables derivatives \n",
    "for var in variables:\n",
    "    var.set_diff(expr)"
   ]
  },
  {
   "cell_type": "code",
   "execution_count": 12,
   "metadata": {},
   "outputs": [],
   "source": [
    "# train based on number of iterations with learning rate eta\n",
    "def train(iterations=500, eta=0.05):\n",
    "    for var in variables:\n",
    "        var.set_rand()\n",
    "\n",
    "    j = 0\n",
    "    for _ in range(iterations):\n",
    "        mse = subs(expr, variables)\n",
    "        diff(variables, eta)\n",
    "        \n",
    "        if j == 0:\n",
    "            print(mse)\n",
    "        elif j == 10:\n",
    "            j = -1\n",
    "            \n",
    "        j += 1\n",
    "        \n",
    "    def trained_model(x):\n",
    "        return (\n",
    "            w_1.v * max(0, w_11.v * x[0] + w_12.v * x[1] + b_1.v) + \n",
    "            w_2.v * max(0, w_21.v * x[0] + w_22.v * x[1] + b_2.v) + b.v\n",
    "        )\n",
    "\n",
    "    return trained_model"
   ]
  },
  {
   "cell_type": "code",
   "execution_count": 13,
   "metadata": {},
   "outputs": [
    {
     "name": "stdout",
     "output_type": "stream",
     "text": [
      "0.265646446065377\n",
      "0.224858254011097\n",
      "0.206991861276136\n",
      "0.190704149182786\n",
      "0.181199984040078\n",
      "0.174393451491669\n",
      "0.167328360539738\n",
      "0.163526028868485\n",
      "0.154924305564428\n",
      "0.146407625120289\n",
      "0.134448533946257\n",
      "0.121845513677617\n",
      "0.110361501188768\n",
      "0.0983061437253321\n",
      "0.0861120076772425\n",
      "0.0736537068454568\n",
      "0.0617838854835395\n",
      "0.0503109833076007\n",
      "0.0381953811393830\n",
      "0.0281041646397589\n",
      "0.0209350569412672\n",
      "0.0154467266138095\n",
      "0.0111496916915322\n",
      "0.00778730172723044\n",
      "0.00530334174726595\n",
      "0.00376824501705862\n",
      "0.00258942186143672\n",
      "0.00189570651881333\n",
      "0.00126690378478501\n",
      "0.000820948277708715\n",
      "0.000578653842596901\n",
      "0.000397286773700105\n",
      "0.000276810189056663\n",
      "0.000181024255154999\n",
      "0.000117368107852272\n",
      "8.05656907870844e-5\n",
      "5.49147629686018e-5\n",
      "3.69530191406392e-5\n",
      "2.36920184911874e-5\n",
      "1.63506687844512e-5\n",
      "1.13638812082042e-5\n",
      "7.30898060985584e-6\n",
      "4.78150729183676e-6\n",
      "3.16891761858790e-6\n",
      "2.18022378660339e-6\n",
      "1.48938479073708e-6\n"
     ]
    }
   ],
   "source": [
    "trained_model = train()"
   ]
  },
  {
   "cell_type": "code",
   "execution_count": 14,
   "metadata": {},
   "outputs": [
    {
     "name": "stdout",
     "output_type": "stream",
     "text": [
      "input: (0, 0), output: 0.000702514318965952\n",
      "input: (0, 1), output: 0.998703406850084\n",
      "input: (1, 0), output: 0.998724427574680\n",
      "input: (1, 1), output: 0.00102738435601935\n"
     ]
    }
   ],
   "source": [
    "for x in itertools.product([0, 1], repeat=2):\n",
    "    print('input: {}, output: {}'.format(x, trained_model(x)))"
   ]
  }
 ],
 "metadata": {
  "kernelspec": {
   "display_name": "data-science",
   "language": "python",
   "name": "data-science"
  },
  "language_info": {
   "codemirror_mode": {
    "name": "ipython",
    "version": 3
   },
   "file_extension": ".py",
   "mimetype": "text/x-python",
   "name": "python",
   "nbconvert_exporter": "python",
   "pygments_lexer": "ipython3",
   "version": "3.6.5"
  }
 },
 "nbformat": 4,
 "nbformat_minor": 2
}
